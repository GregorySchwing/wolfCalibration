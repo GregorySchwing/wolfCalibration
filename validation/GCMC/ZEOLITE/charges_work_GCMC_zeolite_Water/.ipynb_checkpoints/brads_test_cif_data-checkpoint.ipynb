{
 "cells": [
  {
   "cell_type": "code",
   "execution_count": 1,
   "id": "bd6ff2b7",
   "metadata": {},
   "outputs": [],
   "source": [
    "from collections import OrderedDict\n",
    "from operator import itemgetter\n",
    "import numpy as np\n",
    "import pytest\n",
    "import mbuild as mb\n",
    "from mbuild.lattice import load_cif\n",
    "from mbuild.tests.base_test import BaseTest\n",
    "from mbuild.utils.io import get_fn, has_garnett, has_pycifrw\n",
    "\n",
    "\n",
    "from foyer import Forcefield\n",
    "import mbuild.formats.charmm_writer as mf_charmm\n",
    "import mbuild.formats.gomc_conf_writer as gomc_control"
   ]
  },
  {
   "cell_type": "code",
   "execution_count": 2,
   "id": "146abf28",
   "metadata": {},
   "outputs": [
    {
     "name": "stderr",
     "output_type": "stream",
     "text": [
      "/Users/brad/Programs/anaconda3/envs/mbuild-dev/lib/python3.8/site-packages/ipykernel/ipkernel.py:283: DeprecationWarning: `should_run_async` will not call `transform_cell` automatically in the future. Please pass the result to `transformed_cell` argument and any exception that happen during thetransform in `preprocessing_exc_tuple` in IPython 7.17 and above.\n",
      "  and should_run_async(code)\n"
     ]
    }
   ],
   "source": [
    "def test_cif_monoclinic_box_properties(self):\n",
    "    lattice_cif = load_cif(file_or_path=get_fn(\"ITG_monoclinic.cif\"))\n",
    "    periodic_boxed_molecule = lattice_cif.populate(x=1, y=1, z=1)\n",
    "    periodic_box = periodic_boxed_molecule.box\n",
    "    manual_num_atoms = 168\n",
    "    # manual_num_atoms was found using VESTA: https://gist.github.com/ramanishsingh/d712f57b8101eb073cfe010fc3b4edc3\n",
    "    # xyz file used: https://gist.github.com/ramanishsingh/154cf03d12e25f3d608e526500453e2e\n",
    "    # cif file used: https://gist.github.com/ramanishsingh/2db4ff2a266390242a6a05913d31414a\n",
    "    manual_angles = [90.0, 96.29, 90]\n",
    "    manual_lengths = [1.27411, 1.26989, 2.09991]\n",
    "    assert np.all(np.isclose(manual_lengths, list(periodic_box.lengths)))\n",
    "    assert np.all(np.isclose(manual_angles, list(periodic_box.angles)))\n",
    "    assert len(periodic_boxed_molecule.children) == manual_num_atoms\n",
    "\n",
    "def test_cif_triclinic_box_properties(self):\n",
    "     lattice_cif = load_cif(file_or_path=get_fn(\"ETV_triclinic.cif\")) \n",
    "     periodic_boxed_molecule = lattice_cif.populate(x=1, y=1, z=1)\n",
    "     periodic_box = periodic_boxed_molecule.box\n",
    "     manual_num_atoms = 42\n",
    "     manual_angles = [105.72, 100.19, 97.02]\n",
    "     manual_lengths = [0.87503, 0.96479, 1.02719]\n",
    "     assert np.all(np.isclose(manual_lengths, list(periodic_box.lengths)))\n",
    "     assert np.all(np.isclose(manual_angles, list(periodic_box.angles)))\n",
    "     assert len(periodic_boxed_molecule.children) == manual_num_atoms"
   ]
  },
  {
   "cell_type": "code",
   "execution_count": 3,
   "id": "6b33a6fb",
   "metadata": {},
   "outputs": [
    {
     "name": "stderr",
     "output_type": "stream",
     "text": [
      "/Users/brad/Programs/anaconda3/envs/mbuild-dev/lib/python3.8/site-packages/ipykernel/ipkernel.py:283: DeprecationWarning: `should_run_async` will not call `transform_cell` automatically in the future. Please pass the result to `transformed_cell` argument and any exception that happen during thetransform in `preprocessing_exc_tuple` in IPython 7.17 and above.\n",
      "  and should_run_async(code)\n"
     ]
    },
    {
     "name": "stdout",
     "output_type": "stream",
     "text": [
      "type(periodic_box_ITG_monoclinic) = <class 'mbuild.box.Box'>\n"
     ]
    },
    {
     "name": "stderr",
     "output_type": "stream",
     "text": [
      "/Users/brad/Programs/GIT_repositories/all_hands_2021/mbuild/mbuild/mbuild/compound.py:1039: UserWarning: Compound.box.lengths < Compound.boundingbox.lengths. There may be particles outside of the defined simulation box.\n",
      "  warn(\n"
     ]
    }
   ],
   "source": [
    "lattice_cif_ITG_monoclinic = load_cif(file_or_path=get_fn(\"ITG_monoclinic.cif\"))\n",
    "periodic_boxed_molecule_ITG_monoclinic = lattice_cif_ITG_monoclinic.populate(x=1, y=1, z=1)\n",
    "periodic_box_ITG_monoclinic = periodic_boxed_molecule_ITG_monoclinic.box\n",
    "\n",
    "print('type(periodic_box_ITG_monoclinic) = ' + str(type(periodic_box_ITG_monoclinic)))"
   ]
  },
  {
   "cell_type": "code",
   "execution_count": 4,
   "id": "c4ca0125",
   "metadata": {},
   "outputs": [
    {
     "name": "stdout",
     "output_type": "stream",
     "text": [
      "type(periodic_boxed_molecule_ETV_triclinic) = <class 'mbuild.compound.Compound'>\n",
      "periodic_boxed_molecule_ETV_triclinic.name = ZEO\n",
      "periodic_boxed_molecule_ETV_triclinic.children = OrderedSet([<O pos=([-0.0057  0.659   0.0128]), 0 bonds, id: 140246250573200>, <O pos=([0.619  0.0141 0.9518]), 0 bonds, id: 140246312345408>, <O pos=([-0.1095  0.1752  0.8117]), 0 bonds, id: 140246312344112>, <O pos=([0.7228 0.498  0.1529]), 0 bonds, id: 140246312345168>, <O pos=([0.4043 0.0885 0.6564]), 0 bonds, id: 140246312343920>, <O pos=([0.209  0.5847 0.3082]), 0 bonds, id: 140246312344160>, <O pos=([ 0.1767 -0.2     0.7631]), 0 bonds, id: 140246312345312>, <O pos=([0.4366 0.8732 0.2015]), 0 bonds, id: 140246312343536>, <O pos=([0.1027 0.7196 0.5058]), 0 bonds, id: 140246312344208>, <O pos=([ 0.5106 -0.0464  0.4588]), 0 bonds, id: 140246312345360>, <O pos=([0.6439 0.7441 0.1111]), 0 bonds, id: 140246312344400>, <O pos=([-0.0306 -0.0709  0.8535]), 0 bonds, id: 140246312344496>, <O pos=([0.0443 0.3913 0.8195]), 0 bonds, id: 140246313202016>, <O pos=([0.569  0.2818 0.1451]), 0 bonds, id: 140246313202208>, <O pos=([0.2714 0.3007 0.7318]), 0 bonds, id: 140246313202400>, <O pos=([0.3419 0.3724 0.2328]), 0 bonds, id: 140246313202592>, <O pos=([ 0.6366 -0.0277  0.6929]), 0 bonds, id: 140246313202784>, <O pos=([-0.0233  0.7009  0.2717]), 0 bonds, id: 140246313202976>, <O pos=([0.2726 0.4849 0.9229]), 0 bonds, id: 140246313203168>, <O pos=([0.3407 0.1882 0.0417]), 0 bonds, id: 140246313203360>, <O pos=([0.4247 0.6121 0.1666]), 0 bonds, id: 140246313203552>, <O pos=([0.1886 0.0611 0.798 ]), 0 bonds, id: 140246313203744>, <O pos=([ 0.4162 -0.1734  0.664 ]), 0 bonds, id: 140246313203936>, <O pos=([0.1971 0.8465 0.3006]), 0 bonds, id: 140246313204128>, <O pos=([0.2049 0.5088 0.0549]), 0 bonds, id: 140246313204320>, <O pos=([0.4084 0.1643 0.9097]), 0 bonds, id: 140246313204512>, <O pos=([0.1974 0.546  0.6776]), 0 bonds, id: 140246313204704>, <O pos=([0.4159 0.1272 0.287 ]), 0 bonds, id: 140246313204896>, <Si pos=([-0.0441  0.2919  0.9067]), 0 bonds, id: 140246250571088>, <Si pos=([0.6574 0.3813 0.0579]), 0 bonds, id: 140246313205328>, <Si pos=([-0.1585  0.0224  0.827 ]), 0 bonds, id: 140246313205520>, <Si pos=([0.7718 0.6508 0.1375]), 0 bonds, id: 140246313205712>, <Si pos=([0.483  0.7495 0.1093]), 0 bonds, id: 140246313214160>, <Si pos=([ 0.1303 -0.0764  0.8553]), 0 bonds, id: 140246313214352>, <Si pos=([ 0.492  -0.0399  0.6179]), 0 bonds, id: 140246313214544>, <Si pos=([0.1212 0.7131 0.3467]), 0 bonds, id: 140246313214736>, <Si pos=([0.1699 0.7019 0.6527]), 0 bonds, id: 140246313214928>, <Si pos=([ 0.4434 -0.0287  0.3118]), 0 bonds, id: 140246313215120>, <Si pos=([0.2951 0.5197 0.1908]), 0 bonds, id: 140246313215312>, <Si pos=([0.3182 0.1534 0.7738]), 0 bonds, id: 140246313215504>, <Si pos=([0.1965 0.4309 0.7881]), 0 bonds, id: 140246313215696>, <Si pos=([0.4167 0.2423 0.1765]), 0 bonds, id: 140246313215888>])\n"
     ]
    },
    {
     "name": "stderr",
     "output_type": "stream",
     "text": [
      "/Users/brad/Programs/anaconda3/envs/mbuild-dev/lib/python3.8/site-packages/ipykernel/ipkernel.py:283: DeprecationWarning: `should_run_async` will not call `transform_cell` automatically in the future. Please pass the result to `transformed_cell` argument and any exception that happen during thetransform in `preprocessing_exc_tuple` in IPython 7.17 and above.\n",
      "  and should_run_async(code)\n"
     ]
    }
   ],
   "source": [
    "lattice_cif_ETV_triclinic = load_cif(file_or_path=get_fn(\"ETV_triclinic.cif\")) \n",
    "periodic_boxed_molecule_ETV_triclinic = lattice_cif_ETV_triclinic.populate(x=1, y=1, z=1)\n",
    "periodic_boxed_molecule_ETV_triclinic.name = 'ZEO'\n",
    "periodic_box_ETV_triclinic = periodic_boxed_molecule_ETV_triclinic.box\n",
    "\n",
    "print('type(periodic_boxed_molecule_ETV_triclinic) = ' + str(type(periodic_boxed_molecule_ETV_triclinic)))\n",
    "print('periodic_boxed_molecule_ETV_triclinic.name = ' + str(periodic_boxed_molecule_ETV_triclinic.name))\n",
    "print('periodic_boxed_molecule_ETV_triclinic.children = ' + str(periodic_boxed_molecule_ETV_triclinic.children))\n",
    "\n",
    "\n",
    "\n",
    "#make_compound = mb.Compound(periodic_boxed_molecule_ETV_triclinic,name='ZEO')\n",
    "#mb.fill_box(compound=periodic_boxed_molecule_ETV_triclinic,\n",
    "            #n_compounds=1,\n",
    "            #box=[periodic_box_ETV_triclinic.Lx, \n",
    "                 #periodic_box_ETV_triclinic.Ly, \n",
    "                 #periodic_box_ETV_triclinic.Lz]\n",
    "           #)\n",
    "#make_compound.add(periodic_box_ETV_triclinic)\n"
   ]
  },
  {
   "cell_type": "code",
   "execution_count": 8,
   "id": "bd5e4d04",
   "metadata": {},
   "outputs": [
    {
     "name": "stdout",
     "output_type": "stream",
     "text": [
      "write_gomcdata: forcefield_selection = FF_faked_Si_O.xml, residues = ['ZEO']\n",
      "FF forcefield_selection = {'ZEO': 'FF_faked_Si_O.xml'}\n",
      "******************************\n",
      "\n",
      "GOMC FF writing each residues FF as a group for structure_box_0\n",
      "forcefield_selection = {'ZEO': 'FF_faked_Si_O.xml'}\n"
     ]
    },
    {
     "name": "stderr",
     "output_type": "stream",
     "text": [
      "/Users/brad/Programs/anaconda3/envs/mbuild-dev/lib/python3.8/site-packages/ipykernel/ipkernel.py:283: DeprecationWarning: `should_run_async` will not call `transform_cell` automatically in the future. Please pass the result to `transformed_cell` argument and any exception that happen during thetransform in `preprocessing_exc_tuple` in IPython 7.17 and above.\n",
      "  and should_run_async(code)\n"
     ]
    },
    {
     "ename": "ValueError",
     "evalue": "Please make sure you are entering the correct foyer FF path, including the FF file name.xml If you are using the pre-build FF files in foyer, please us the forcefield_names variable.",
     "output_type": "error",
     "traceback": [
      "\u001b[0;31m---------------------------------------------------------------------------\u001b[0m",
      "\u001b[0;31mExpatError\u001b[0m                                Traceback (most recent call last)",
      "\u001b[0;32m~/Programs/GIT_repositories/all_hands_2021/mbuild/mbuild/mbuild/utils/specific_ff_to_residue.py\u001b[0m in \u001b[0;36mspecific_ff_to_residue\u001b[0;34m(structure, forcefield_selection, residues, reorder_res_in_pdb_psf, box, boxes_for_simulation)\u001b[0m\n\u001b[1;32m    236\u001b[0m             \u001b[0;32mtry\u001b[0m\u001b[0;34m:\u001b[0m\u001b[0;34m\u001b[0m\u001b[0;34m\u001b[0m\u001b[0m\n\u001b[0;32m--> 237\u001b[0;31m                 \u001b[0mread_xlm_iteration\u001b[0m \u001b[0;34m=\u001b[0m \u001b[0mminidom\u001b[0m\u001b[0;34m.\u001b[0m\u001b[0mparse\u001b[0m\u001b[0;34m(\u001b[0m\u001b[0mff_for_residue_iteration\u001b[0m\u001b[0;34m)\u001b[0m\u001b[0;34m\u001b[0m\u001b[0;34m\u001b[0m\u001b[0m\n\u001b[0m\u001b[1;32m    238\u001b[0m \u001b[0;34m\u001b[0m\u001b[0m\n",
      "\u001b[0;32m~/Programs/anaconda3/envs/mbuild-dev/lib/python3.8/xml/dom/minidom.py\u001b[0m in \u001b[0;36mparse\u001b[0;34m(file, parser, bufsize)\u001b[0m\n\u001b[1;32m   1958\u001b[0m         \u001b[0;32mfrom\u001b[0m \u001b[0mxml\u001b[0m\u001b[0;34m.\u001b[0m\u001b[0mdom\u001b[0m \u001b[0;32mimport\u001b[0m \u001b[0mexpatbuilder\u001b[0m\u001b[0;34m\u001b[0m\u001b[0;34m\u001b[0m\u001b[0m\n\u001b[0;32m-> 1959\u001b[0;31m         \u001b[0;32mreturn\u001b[0m \u001b[0mexpatbuilder\u001b[0m\u001b[0;34m.\u001b[0m\u001b[0mparse\u001b[0m\u001b[0;34m(\u001b[0m\u001b[0mfile\u001b[0m\u001b[0;34m)\u001b[0m\u001b[0;34m\u001b[0m\u001b[0;34m\u001b[0m\u001b[0m\n\u001b[0m\u001b[1;32m   1960\u001b[0m     \u001b[0;32melse\u001b[0m\u001b[0;34m:\u001b[0m\u001b[0;34m\u001b[0m\u001b[0;34m\u001b[0m\u001b[0m\n",
      "\u001b[0;32m~/Programs/anaconda3/envs/mbuild-dev/lib/python3.8/xml/dom/expatbuilder.py\u001b[0m in \u001b[0;36mparse\u001b[0;34m(file, namespaces)\u001b[0m\n\u001b[1;32m    910\u001b[0m         \u001b[0;32mwith\u001b[0m \u001b[0mopen\u001b[0m\u001b[0;34m(\u001b[0m\u001b[0mfile\u001b[0m\u001b[0;34m,\u001b[0m \u001b[0;34m'rb'\u001b[0m\u001b[0;34m)\u001b[0m \u001b[0;32mas\u001b[0m \u001b[0mfp\u001b[0m\u001b[0;34m:\u001b[0m\u001b[0;34m\u001b[0m\u001b[0;34m\u001b[0m\u001b[0m\n\u001b[0;32m--> 911\u001b[0;31m             \u001b[0mresult\u001b[0m \u001b[0;34m=\u001b[0m \u001b[0mbuilder\u001b[0m\u001b[0;34m.\u001b[0m\u001b[0mparseFile\u001b[0m\u001b[0;34m(\u001b[0m\u001b[0mfp\u001b[0m\u001b[0;34m)\u001b[0m\u001b[0;34m\u001b[0m\u001b[0;34m\u001b[0m\u001b[0m\n\u001b[0m\u001b[1;32m    912\u001b[0m     \u001b[0;32melse\u001b[0m\u001b[0;34m:\u001b[0m\u001b[0;34m\u001b[0m\u001b[0;34m\u001b[0m\u001b[0m\n",
      "\u001b[0;32m~/Programs/anaconda3/envs/mbuild-dev/lib/python3.8/xml/dom/expatbuilder.py\u001b[0m in \u001b[0;36mparseFile\u001b[0;34m(self, file)\u001b[0m\n\u001b[1;32m    206\u001b[0m                     \u001b[0;32mbreak\u001b[0m\u001b[0;34m\u001b[0m\u001b[0;34m\u001b[0m\u001b[0m\n\u001b[0;32m--> 207\u001b[0;31m                 \u001b[0mparser\u001b[0m\u001b[0;34m.\u001b[0m\u001b[0mParse\u001b[0m\u001b[0;34m(\u001b[0m\u001b[0mbuffer\u001b[0m\u001b[0;34m,\u001b[0m \u001b[0;36m0\u001b[0m\u001b[0;34m)\u001b[0m\u001b[0;34m\u001b[0m\u001b[0;34m\u001b[0m\u001b[0m\n\u001b[0m\u001b[1;32m    208\u001b[0m                 \u001b[0;32mif\u001b[0m \u001b[0mfirst_buffer\u001b[0m \u001b[0;32mand\u001b[0m \u001b[0mself\u001b[0m\u001b[0;34m.\u001b[0m\u001b[0mdocument\u001b[0m\u001b[0;34m.\u001b[0m\u001b[0mdocumentElement\u001b[0m\u001b[0;34m:\u001b[0m\u001b[0;34m\u001b[0m\u001b[0;34m\u001b[0m\u001b[0m\n",
      "\u001b[0;31mExpatError\u001b[0m: not well-formed (invalid token): line 3, column 17",
      "\nDuring handling of the above exception, another exception occurred:\n",
      "\u001b[0;31mValueError\u001b[0m                                Traceback (most recent call last)",
      "\u001b[0;32m<ipython-input-8-38d32928995c>\u001b[0m in \u001b[0;36m<module>\u001b[0;34m\u001b[0m\n\u001b[0;32m----> 1\u001b[0;31m charmm = mf_charmm.Charmm(periodic_boxed_molecule_ETV_triclinic,\n\u001b[0m\u001b[1;32m      2\u001b[0m                           \u001b[0;34m'periodic_boxed_molecule_ETV_triclinic'\u001b[0m\u001b[0;34m,\u001b[0m\u001b[0;34m\u001b[0m\u001b[0;34m\u001b[0m\u001b[0m\n\u001b[1;32m      3\u001b[0m                           \u001b[0mstructure_box_1\u001b[0m \u001b[0;34m=\u001b[0m \u001b[0;32mNone\u001b[0m\u001b[0;34m,\u001b[0m\u001b[0;34m\u001b[0m\u001b[0;34m\u001b[0m\u001b[0m\n\u001b[1;32m      4\u001b[0m                           \u001b[0mfilename_box_1\u001b[0m \u001b[0;34m=\u001b[0m \u001b[0;32mNone\u001b[0m\u001b[0;34m,\u001b[0m\u001b[0;34m\u001b[0m\u001b[0;34m\u001b[0m\u001b[0m\n\u001b[1;32m      5\u001b[0m                           \u001b[0mff_filename\u001b[0m \u001b[0;34m=\u001b[0m\u001b[0;34m\"periodic_boxed_molecule_ETV_triclinic\"\u001b[0m \u001b[0;34m,\u001b[0m\u001b[0;34m\u001b[0m\u001b[0;34m\u001b[0m\u001b[0m\n",
      "\u001b[0;32m~/Programs/GIT_repositories/all_hands_2021/mbuild/mbuild/mbuild/formats/charmm_writer.py\u001b[0m in \u001b[0;36m__init__\u001b[0;34m(self, structure_box_0, filename_box_0, structure_box_1, filename_box_1, non_bonded_type, forcefield_selection, residues, detect_forcefield_style, gomc_fix_bonds_angles, bead_to_atom_name_dict, fix_residue, fix_residue_in_box, ff_filename, reorder_res_in_pdb_psf, box_0, box_1)\u001b[0m\n\u001b[1;32m   1770\u001b[0m                 \u001b[0mself\u001b[0m\u001b[0;34m.\u001b[0m\u001b[0mLJ14scalar_dict_box_0\u001b[0m\u001b[0;34m,\u001b[0m\u001b[0;34m\u001b[0m\u001b[0;34m\u001b[0m\u001b[0m\n\u001b[1;32m   1771\u001b[0m                 \u001b[0mself\u001b[0m\u001b[0;34m.\u001b[0m\u001b[0mresidues_applied_list_box_0\u001b[0m\u001b[0;34m,\u001b[0m\u001b[0;34m\u001b[0m\u001b[0;34m\u001b[0m\u001b[0m\n\u001b[0;32m-> 1772\u001b[0;31m             \u001b[0;34m]\u001b[0m \u001b[0;34m=\u001b[0m \u001b[0mspecific_ff_to_residue\u001b[0m\u001b[0;34m(\u001b[0m\u001b[0;34m\u001b[0m\u001b[0;34m\u001b[0m\u001b[0m\n\u001b[0m\u001b[1;32m   1773\u001b[0m                 \u001b[0mself\u001b[0m\u001b[0;34m.\u001b[0m\u001b[0mstructure_box_0\u001b[0m\u001b[0;34m,\u001b[0m\u001b[0;34m\u001b[0m\u001b[0;34m\u001b[0m\u001b[0m\n\u001b[1;32m   1774\u001b[0m                 \u001b[0mforcefield_selection\u001b[0m\u001b[0;34m=\u001b[0m\u001b[0mself\u001b[0m\u001b[0;34m.\u001b[0m\u001b[0mforcefield_selection\u001b[0m\u001b[0;34m,\u001b[0m\u001b[0;34m\u001b[0m\u001b[0;34m\u001b[0m\u001b[0m\n",
      "\u001b[0;32m~/Programs/GIT_repositories/all_hands_2021/mbuild/mbuild/mbuild/utils/specific_ff_to_residue.py\u001b[0m in \u001b[0;36mspecific_ff_to_residue\u001b[0;34m(structure, forcefield_selection, residues, reorder_res_in_pdb_psf, box, boxes_for_simulation)\u001b[0m\n\u001b[1;32m    244\u001b[0m                     \u001b[0;34m\"please us the forcefield_names variable.\"\u001b[0m\u001b[0;34m\u001b[0m\u001b[0;34m\u001b[0m\u001b[0m\n\u001b[1;32m    245\u001b[0m                 )\n\u001b[0;32m--> 246\u001b[0;31m                 \u001b[0;32mraise\u001b[0m \u001b[0mValueError\u001b[0m\u001b[0;34m(\u001b[0m\u001b[0mprint_error_message\u001b[0m\u001b[0;34m)\u001b[0m\u001b[0;34m\u001b[0m\u001b[0;34m\u001b[0m\u001b[0m\n\u001b[0m\u001b[1;32m    247\u001b[0m         \u001b[0;32melif\u001b[0m \u001b[0;32mnot\u001b[0m \u001b[0muser_entered_ff_with_path_dict\u001b[0m\u001b[0;34m[\u001b[0m\u001b[0mresidue_iteration\u001b[0m\u001b[0;34m]\u001b[0m\u001b[0;34m:\u001b[0m\u001b[0;34m\u001b[0m\u001b[0;34m\u001b[0m\u001b[0m\n\u001b[1;32m    248\u001b[0m             \u001b[0mff_for_residue_iteration\u001b[0m \u001b[0;34m=\u001b[0m \u001b[0mff_data\u001b[0m\u001b[0;34m[\u001b[0m\u001b[0mresidue_iteration\u001b[0m\u001b[0;34m]\u001b[0m\u001b[0;34m\u001b[0m\u001b[0;34m\u001b[0m\u001b[0m\n",
      "\u001b[0;31mValueError\u001b[0m: Please make sure you are entering the correct foyer FF path, including the FF file name.xml If you are using the pre-build FF files in foyer, please us the forcefield_names variable."
     ]
    }
   ],
   "source": [
    "charmm = mf_charmm.Charmm(periodic_boxed_molecule_ETV_triclinic,\n",
    "                          'periodic_boxed_molecule_ETV_triclinic',\n",
    "                          structure_box_1 = None,\n",
    "                          filename_box_1 = None,\n",
    "                          ff_filename =\"periodic_boxed_molecule_ETV_triclinic\" ,\n",
    "                          forcefield_selection = 'FF_faked_Si_O.xml',\n",
    "                          residues= [periodic_boxed_molecule_ETV_triclinic.name] ,\n",
    "                          bead_to_atom_name_dict = None,\n",
    "                          fix_residue = None,\n",
    "                          gomc_fix_bonds_angles = None,\n",
    "                          reorder_res_in_pdb_psf = True\n",
    "                          )\n",
    "\n",
    "\n",
    "\n",
    "charmm.write_inp()\n",
    "\n",
    "charmm.write_psf()\n",
    "\n",
    "charmm.write_pdb()"
   ]
  },
  {
   "cell_type": "code",
   "execution_count": 25,
   "id": "e1cc1d9f",
   "metadata": {},
   "outputs": [
    {
     "name": "stdout",
     "output_type": "stream",
     "text": [
      "Help on class Box in module mbuild.box:\n",
      "\n",
      "class Box(builtins.object)\n",
      " |  Box(lengths, angles=None, precision=None)\n",
      " |  \n",
      " |  A box representing the bounds of the system.\n",
      " |  \n",
      " |  Parameters\n",
      " |  ----------\n",
      " |  lengths : list-like, shape=(3,), dtype=float\n",
      " |      Lengths of the edges of the box.\n",
      " |  angles : list-like, shape=(3,), dtype=float, default=None\n",
      " |      Angles (in degrees) that define the tilt of the edges of the box. If\n",
      " |      None is given, angles are assumed to be [90.0, 90.0, 90.0].\n",
      " |  precision : int, optional, default=None\n",
      " |      Control the precision of the floating point representation __repr__\n",
      " |  \n",
      " |  Attributes\n",
      " |  ----------\n",
      " |  box_vectors : np.ndarray, shape=(3,3), dtype=float\n",
      " |      Vectors that define the parallelepiped (Box).\n",
      " |  Lx : float\n",
      " |      Length of the Box in the x dimension\n",
      " |  Ly : float\n",
      " |      Length of the Box in the y dimension\n",
      " |  Lz : float\n",
      " |      Length of the Box in the z dimension\n",
      " |  xy : float\n",
      " |      Tilt factor needed to displace an orthogonal box's xy face to its\n",
      " |      parallelepiped structure.\n",
      " |  xz : float\n",
      " |      Tilt factor needed to displace an orthogonal box's xz face to its\n",
      " |      parallelepiped structure.\n",
      " |  yz : float\n",
      " |      Tilt factor needed to displace an orthogonal box's yz face to its\n",
      " |      parallelepiped structure.\n",
      " |  precision : int\n",
      " |      Precision of the floating point numbers when accessing the __repr__\n",
      " |  \n",
      " |  NOTE\n",
      " |  ----\n",
      " |  Box vectors are expected to be provided in row-major format.\n",
      " |  \n",
      " |  Methods defined here:\n",
      " |  \n",
      " |  __init__(self, lengths, angles=None, precision=None)\n",
      " |      Initialize self.  See help(type(self)) for accurate signature.\n",
      " |  \n",
      " |  __repr__(self)\n",
      " |      Return a string representation of the box.\n",
      " |  \n",
      " |  ----------------------------------------------------------------------\n",
      " |  Class methods defined here:\n",
      " |  \n",
      " |  from_box_vectors(vectors) from builtins.type\n",
      " |      Generate a box from box vectors.\n",
      " |  \n",
      " |  from_lengths_tilt_factors(lengths, tilt_factors=None) from builtins.type\n",
      " |      Generate a box from box lengths and tilt factors.\n",
      " |  \n",
      " |  from_lo_hi_tilt_factors(lo, hi, tilt_factors) from builtins.type\n",
      " |      Generate a box from a lo, hi convention and tilt factors.\n",
      " |  \n",
      " |  from_mins_maxs_angles(mins, maxs, angles) from builtins.type\n",
      " |      Generate a box from min/max distance calculations and angles.\n",
      " |  \n",
      " |  from_uvec_lengths(uvec, lengths) from builtins.type\n",
      " |      Generate a box from unit vectors and lengths.\n",
      " |  \n",
      " |  ----------------------------------------------------------------------\n",
      " |  Readonly properties defined here:\n",
      " |  \n",
      " |  Lx\n",
      " |      Length in the x direction.\n",
      " |  \n",
      " |  Ly\n",
      " |      Length in the y direction.\n",
      " |  \n",
      " |  Lz\n",
      " |      Length in the z direction.\n",
      " |  \n",
      " |  angles\n",
      " |      Angles defining the tilt of the box (alpha, beta, gamma).\n",
      " |  \n",
      " |  box_parameters\n",
      " |      Lengths and tilt factors of the box.\n",
      " |  \n",
      " |  box_vectors\n",
      " |      Box representation as a 3x3 matrix.\n",
      " |  \n",
      " |  bravais_parameters\n",
      " |      Return the Box representation as Bravais lattice parameters.\n",
      " |      \n",
      " |      Based on the box vectors, return the parameters to describe the box in\n",
      " |      terms of the Bravais lattice parameters:\n",
      " |          a,b,c = the edges of the Box\n",
      " |          alpha, beta, gamma = angles(tilt) of the parallelepiped, in degrees\n",
      " |      \n",
      " |      Returns\n",
      " |      -------\n",
      " |      parameters : tuple of floats,\n",
      " |          (a, b, c, alpha, beta, gamma)\n",
      " |  \n",
      " |  lengths\n",
      " |      Lengths of the box.\n",
      " |  \n",
      " |  xy\n",
      " |      Tilt factor xy of the box.\n",
      " |  \n",
      " |  xz\n",
      " |      Tilt factor xz of the box.\n",
      " |  \n",
      " |  yz\n",
      " |      Tilt factor yz of the box.\n",
      " |  \n",
      " |  ----------------------------------------------------------------------\n",
      " |  Data descriptors defined here:\n",
      " |  \n",
      " |  __dict__\n",
      " |      dictionary for instance variables (if defined)\n",
      " |  \n",
      " |  __weakref__\n",
      " |      list of weak references to the object (if defined)\n",
      "\n"
     ]
    },
    {
     "name": "stderr",
     "output_type": "stream",
     "text": [
      "/Users/brad/Programs/anaconda3/envs/mbuild-dev/lib/python3.8/site-packages/ipykernel/ipkernel.py:283: DeprecationWarning: `should_run_async` will not call `transform_cell` automatically in the future. Please pass the result to `transformed_cell` argument and any exception that happen during thetransform in `preprocessing_exc_tuple` in IPython 7.17 and above.\n",
      "  and should_run_async(code)\n"
     ]
    }
   ],
   "source": [
    "help(mb.Box)"
   ]
  },
  {
   "cell_type": "code",
   "execution_count": null,
   "id": "8dbda178",
   "metadata": {},
   "outputs": [],
   "source": []
  }
 ],
 "metadata": {
  "kernelspec": {
   "display_name": "Python 3",
   "language": "python",
   "name": "python3"
  },
  "language_info": {
   "codemirror_mode": {
    "name": "ipython",
    "version": 3
   },
   "file_extension": ".py",
   "mimetype": "text/x-python",
   "name": "python",
   "nbconvert_exporter": "python",
   "pygments_lexer": "ipython3",
   "version": "3.8.0"
  }
 },
 "nbformat": 4,
 "nbformat_minor": 5
}
